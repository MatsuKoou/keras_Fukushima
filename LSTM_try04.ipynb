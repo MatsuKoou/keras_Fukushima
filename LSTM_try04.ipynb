{
  "nbformat": 4,
  "nbformat_minor": 0,
  "metadata": {
    "colab": {
      "provenance": [],
      "mount_file_id": "1AQX64G5DGT7Mhp1CxK0YY1P_XZ9SfAeo",
      "authorship_tag": "ABX9TyM35ft7gz7ldYpRIPmjqGWi",
      "include_colab_link": true
    },
    "kernelspec": {
      "name": "python3",
      "display_name": "Python 3"
    },
    "language_info": {
      "name": "python"
    }
  },
  "cells": [
    {
      "cell_type": "markdown",
      "metadata": {
        "id": "view-in-github",
        "colab_type": "text"
      },
      "source": [
        "<a href=\"https://colab.research.google.com/github/SeiichiroFukushima/keras/blob/master/LSTM_try04.ipynb\" target=\"_parent\"><img src=\"https://colab.research.google.com/assets/colab-badge.svg\" alt=\"Open In Colab\"/></a>"
      ]
    },
    {
      "cell_type": "code",
      "execution_count": 49,
      "metadata": {
        "colab": {
          "base_uri": "https://localhost:8080/"
        },
        "id": "a8By1SW7E2sb",
        "outputId": "0fc39a73-5d7b-4ff7-e5a9-2f2df292364a"
      },
      "outputs": [
        {
          "output_type": "stream",
          "name": "stdout",
          "text": [
            "Drive already mounted at /content/drive; to attempt to forcibly remount, call drive.mount(\"/content/drive\", force_remount=True).\n"
          ]
        }
      ],
      "source": [
        "import pandas as pd\n",
        "import numpy as np\n",
        "import matplotlib.pyplot as plt\n",
        "\n",
        "from google.colab import drive\n",
        "drive.mount('/content/drive')\n",
        "\n",
        "data_file='/content/drive/MyDrive/Colab Notebooks/RENEW_No_56_WeldValue0621-2.csv'\n",
        "#csvファイルの読み込み\n",
        "data=pd.read_csv(data_file).values\n",
        "#時刻データ（一番左側）は使わないので除去する\n",
        "data=data[:,1:]"
      ]
    },
    {
      "cell_type": "code",
      "source": [
        "print( data.shape[0], ',', data.shape[1])\n",
        "\n",
        "#データを入力(X)４つ、出力(Y)２つに分ける\n",
        "input_data=data[:,0:2]\n",
        "output_data=data[:,12:13]\n",
        "\n"
      ],
      "metadata": {
        "colab": {
          "base_uri": "https://localhost:8080/"
        },
        "id": "nylYLmKuFfMo",
        "outputId": "728514ab-1de4-4c4b-c797-acd47e9ace43"
      },
      "execution_count": 50,
      "outputs": [
        {
          "output_type": "stream",
          "name": "stdout",
          "text": [
            "8841 , 13\n"
          ]
        }
      ]
    },
    {
      "cell_type": "code",
      "source": [
        "output_data"
      ],
      "metadata": {
        "colab": {
          "base_uri": "https://localhost:8080/"
        },
        "id": "pNYiu0SoNFxR",
        "outputId": "796e5f92-239b-4331-aed9-55619d515923"
      },
      "execution_count": 51,
      "outputs": [
        {
          "output_type": "execute_result",
          "data": {
            "text/plain": [
              "array([[37.],\n",
              "       [ 0.],\n",
              "       [ 1.],\n",
              "       ...,\n",
              "       [ 2.],\n",
              "       [ 2.],\n",
              "       [ 1.]])"
            ]
          },
          "metadata": {},
          "execution_count": 51
        }
      ]
    },
    {
      "cell_type": "code",
      "source": [
        "Xdata=[]\n",
        "Ydata=[]\n",
        "#LSTM用にデータ加工\n",
        "look_back=50\n",
        "for i in range(data.shape[0]-look_back):\n",
        "    Xtimedata=[]\n",
        "    for j in range(input_data.shape[1]):\n",
        "        Xtimedata.append(input_data[i:i+look_back,j])\n",
        "    Xtimedata=np.array(Xtimedata)\n",
        "    Xtimedata=Xtimedata.transpose()\n",
        "    Xdata.append(Xtimedata)\n",
        "    Ytimedata=[]\n",
        "    for j in range(output_data.shape[1]):\n",
        "        Ytimedata.append(output_data[i+look_back,j])\n",
        "    Ydata.append(Ytimedata)"
      ],
      "metadata": {
        "id": "stiGXF6vFlue"
      },
      "execution_count": 52,
      "outputs": []
    },
    {
      "cell_type": "code",
      "source": [
        "Xdata=np.array(Xdata)\n",
        "Ydata=np.array(Ydata)\n",
        "\n",
        "print(Xdata.shape)\n",
        "print(Ydata.shape)"
      ],
      "metadata": {
        "colab": {
          "base_uri": "https://localhost:8080/"
        },
        "id": "wJbgzyNFFpnB",
        "outputId": "65f443d7-77b2-4912-dfa7-25cfd2a99dff"
      },
      "execution_count": 53,
      "outputs": [
        {
          "output_type": "stream",
          "name": "stdout",
          "text": [
            "(8791, 50, 2)\n",
            "(8791, 1)\n"
          ]
        }
      ]
    },
    {
      "cell_type": "code",
      "source": [
        "#ライブラリインポート\n",
        "from tensorflow.keras.models import Sequential\n",
        "from tensorflow.keras.layers import Dense\n",
        "from tensorflow.keras.layers import LSTM\n",
        "from tensorflow.keras.optimizers import Adam"
      ],
      "metadata": {
        "id": "YmEW_SMxFs-U"
      },
      "execution_count": 54,
      "outputs": []
    },
    {
      "cell_type": "code",
      "source": [
        "#train_mean = Xdata.mean()\n",
        "#train_std = Xdata.std()\n",
        "\n",
        "#test_mean = Ydata.mean()\n",
        "#test_std = Ydata.std()\n",
        "\n",
        "#Xdata = (Xdata - train_mean) / train_std\n",
        "#Ydata = (Ydata - test_mean) / test_std"
      ],
      "metadata": {
        "id": "KBdjGL9KS_s-"
      },
      "execution_count": 20,
      "outputs": []
    },
    {
      "cell_type": "code",
      "source": [
        "#学習用の情報指定\n",
        "Xdim=Xdata.shape[2]\n",
        "Ydim=Ydata.shape[1]\n",
        "validation_split_rate=0.2\n",
        "print('Xdim=',Xdim,', Ydim=',Ydim,', validation_split_rate=',validation_split_rate)"
      ],
      "metadata": {
        "colab": {
          "base_uri": "https://localhost:8080/"
        },
        "id": "nHy4YlbAFx_0",
        "outputId": "9c0316ea-930e-4393-f213-6c98f9752050"
      },
      "execution_count": 55,
      "outputs": [
        {
          "output_type": "stream",
          "name": "stdout",
          "text": [
            "Xdim= 2 , Ydim= 1 , validation_split_rate= 0.2\n"
          ]
        }
      ]
    },
    {
      "cell_type": "code",
      "source": [
        "#モデル構築\n",
        "model = Sequential()\n",
        "model.add(LSTM(50, return_sequences=True, input_shape=(look_back,Xdim)))\n",
        "model.add(LSTM(50, return_sequences=True))\n",
        "model.add(LSTM(50))\n",
        "model.add(Dense(Ydim))\n",
        "model.compile(loss=\"mean_squared_error\", optimizer=Adam(lr=0.001))\n",
        "model.summary()"
      ],
      "metadata": {
        "colab": {
          "base_uri": "https://localhost:8080/"
        },
        "id": "nVgptybYF2FM",
        "outputId": "9197e184-f35e-42d9-acba-c2d4e395a039"
      },
      "execution_count": 56,
      "outputs": [
        {
          "output_type": "stream",
          "name": "stderr",
          "text": [
            "WARNING:absl:`lr` is deprecated in Keras optimizer, please use `learning_rate` or use the legacy optimizer, e.g.,tf.keras.optimizers.legacy.Adam.\n"
          ]
        },
        {
          "output_type": "stream",
          "name": "stdout",
          "text": [
            "Model: \"sequential_4\"\n",
            "_________________________________________________________________\n",
            " Layer (type)                Output Shape              Param #   \n",
            "=================================================================\n",
            " lstm_6 (LSTM)               (None, 50, 50)            10600     \n",
            "                                                                 \n",
            " lstm_7 (LSTM)               (None, 50, 50)            20200     \n",
            "                                                                 \n",
            " lstm_8 (LSTM)               (None, 50)                20200     \n",
            "                                                                 \n",
            " dense_4 (Dense)             (None, 1)                 51        \n",
            "                                                                 \n",
            "=================================================================\n",
            "Total params: 51,051\n",
            "Trainable params: 51,051\n",
            "Non-trainable params: 0\n",
            "_________________________________________________________________\n"
          ]
        }
      ]
    },
    {
      "cell_type": "code",
      "source": [
        "#学習開始\n",
        "history=model.fit(Xdata,Ydata,batch_size=16,epochs=200,validation_split=validation_split_rate)"
      ],
      "metadata": {
        "colab": {
          "base_uri": "https://localhost:8080/"
        },
        "id": "uLI-JQryF67L",
        "outputId": "772a8a66-c462-4daa-b3e2-ed4d02e0a878"
      },
      "execution_count": 57,
      "outputs": [
        {
          "output_type": "stream",
          "name": "stdout",
          "text": [
            "Epoch 1/200\n",
            "440/440 [==============================] - 49s 99ms/step - loss: 1.6936 - val_loss: 2.0670\n",
            "Epoch 2/200\n",
            "440/440 [==============================] - 41s 93ms/step - loss: 1.6598 - val_loss: 2.0851\n",
            "Epoch 3/200\n",
            "440/440 [==============================] - 41s 92ms/step - loss: 1.6457 - val_loss: 2.0833\n",
            "Epoch 4/200\n",
            "440/440 [==============================] - 42s 95ms/step - loss: 1.6433 - val_loss: 2.0531\n",
            "Epoch 5/200\n",
            "440/440 [==============================] - 40s 90ms/step - loss: 1.6387 - val_loss: 2.0733\n",
            "Epoch 6/200\n",
            "440/440 [==============================] - 45s 102ms/step - loss: 1.6320 - val_loss: 2.1219\n",
            "Epoch 7/200\n",
            "440/440 [==============================] - 41s 93ms/step - loss: 1.6218 - val_loss: 2.0546\n",
            "Epoch 8/200\n",
            "440/440 [==============================] - 41s 92ms/step - loss: 1.6130 - val_loss: 2.0660\n",
            "Epoch 9/200\n",
            "440/440 [==============================] - 42s 95ms/step - loss: 1.6181 - val_loss: 2.0572\n",
            "Epoch 10/200\n",
            "440/440 [==============================] - 40s 92ms/step - loss: 1.6076 - val_loss: 2.1546\n",
            "Epoch 11/200\n",
            "440/440 [==============================] - 42s 96ms/step - loss: 1.5951 - val_loss: 2.1367\n",
            "Epoch 12/200\n",
            "440/440 [==============================] - 41s 93ms/step - loss: 1.6086 - val_loss: 2.0558\n",
            "Epoch 13/200\n",
            "440/440 [==============================] - 41s 94ms/step - loss: 1.5856 - val_loss: 2.0374\n",
            "Epoch 14/200\n",
            "440/440 [==============================] - 42s 95ms/step - loss: 1.5857 - val_loss: 2.1313\n",
            "Epoch 15/200\n",
            "440/440 [==============================] - 40s 91ms/step - loss: 1.5816 - val_loss: 2.0910\n",
            "Epoch 16/200\n",
            "440/440 [==============================] - 42s 96ms/step - loss: 1.5662 - val_loss: 2.0932\n",
            "Epoch 17/200\n",
            "440/440 [==============================] - 40s 91ms/step - loss: 1.5581 - val_loss: 2.0686\n",
            "Epoch 18/200\n",
            "440/440 [==============================] - 42s 95ms/step - loss: 1.5457 - val_loss: 2.0863\n",
            "Epoch 19/200\n",
            "440/440 [==============================] - 44s 99ms/step - loss: 1.5452 - val_loss: 2.0606\n",
            "Epoch 20/200\n",
            "440/440 [==============================] - 40s 91ms/step - loss: 1.5437 - val_loss: 2.2186\n",
            "Epoch 21/200\n",
            "440/440 [==============================] - 43s 97ms/step - loss: 1.5398 - val_loss: 1.9871\n",
            "Epoch 22/200\n",
            "440/440 [==============================] - 41s 94ms/step - loss: 1.5152 - val_loss: 2.0474\n",
            "Epoch 23/200\n",
            "440/440 [==============================] - 41s 93ms/step - loss: 1.5107 - val_loss: 2.0105\n",
            "Epoch 24/200\n",
            "440/440 [==============================] - 42s 96ms/step - loss: 1.4913 - val_loss: 2.0087\n",
            "Epoch 25/200\n",
            "440/440 [==============================] - 40s 91ms/step - loss: 1.5042 - val_loss: 2.0781\n",
            "Epoch 26/200\n",
            "440/440 [==============================] - 42s 96ms/step - loss: 1.4921 - val_loss: 2.0372\n",
            "Epoch 27/200\n",
            "440/440 [==============================] - 41s 94ms/step - loss: 1.4568 - val_loss: 2.2612\n",
            "Epoch 28/200\n",
            "440/440 [==============================] - 41s 94ms/step - loss: 1.4497 - val_loss: 2.0049\n",
            "Epoch 29/200\n",
            "440/440 [==============================] - 42s 96ms/step - loss: 1.4501 - val_loss: 2.1286\n",
            "Epoch 30/200\n",
            "440/440 [==============================] - 40s 91ms/step - loss: 1.4494 - val_loss: 2.1927\n",
            "Epoch 31/200\n",
            "440/440 [==============================] - 42s 97ms/step - loss: 1.4298 - val_loss: 2.0770\n",
            "Epoch 32/200\n",
            "440/440 [==============================] - 41s 92ms/step - loss: 1.4240 - val_loss: 2.0798\n",
            "Epoch 33/200\n",
            "440/440 [==============================] - 39s 89ms/step - loss: 1.3957 - val_loss: 2.0609\n",
            "Epoch 34/200\n",
            "440/440 [==============================] - 40s 91ms/step - loss: 1.3790 - val_loss: 2.1781\n",
            "Epoch 35/200\n",
            "440/440 [==============================] - 40s 91ms/step - loss: 1.4059 - val_loss: 2.1244\n",
            "Epoch 36/200\n",
            "440/440 [==============================] - 39s 88ms/step - loss: 1.3657 - val_loss: 2.1782\n",
            "Epoch 37/200\n",
            "440/440 [==============================] - 40s 91ms/step - loss: 1.3528 - val_loss: 2.1084\n",
            "Epoch 38/200\n",
            "440/440 [==============================] - 40s 91ms/step - loss: 1.3029 - val_loss: 2.2430\n",
            "Epoch 39/200\n",
            "440/440 [==============================] - 39s 88ms/step - loss: 1.3126 - val_loss: 2.0440\n",
            "Epoch 40/200\n",
            "440/440 [==============================] - 40s 91ms/step - loss: 1.3781 - val_loss: 2.0754\n",
            "Epoch 41/200\n",
            "440/440 [==============================] - 40s 91ms/step - loss: 1.3379 - val_loss: 2.2727\n",
            "Epoch 42/200\n",
            "440/440 [==============================] - 39s 89ms/step - loss: 1.3205 - val_loss: 2.1816\n",
            "Epoch 43/200\n",
            "440/440 [==============================] - 39s 89ms/step - loss: 1.2620 - val_loss: 2.2517\n",
            "Epoch 44/200\n",
            "440/440 [==============================] - 40s 91ms/step - loss: 1.2937 - val_loss: 2.2585\n",
            "Epoch 45/200\n",
            "440/440 [==============================] - 39s 89ms/step - loss: 1.4585 - val_loss: 2.1048\n",
            "Epoch 46/200\n",
            "440/440 [==============================] - 39s 89ms/step - loss: 1.4694 - val_loss: 2.2952\n",
            "Epoch 47/200\n",
            "440/440 [==============================] - 40s 91ms/step - loss: 1.3961 - val_loss: 2.0229\n",
            "Epoch 48/200\n",
            "440/440 [==============================] - 40s 91ms/step - loss: 1.3066 - val_loss: 2.2921\n",
            "Epoch 49/200\n",
            "440/440 [==============================] - 39s 88ms/step - loss: 1.2598 - val_loss: 2.3546\n",
            "Epoch 50/200\n",
            "440/440 [==============================] - 40s 92ms/step - loss: 1.2859 - val_loss: 2.1939\n",
            "Epoch 51/200\n",
            "440/440 [==============================] - 40s 91ms/step - loss: 1.2325 - val_loss: 2.1710\n",
            "Epoch 52/200\n",
            "440/440 [==============================] - 39s 88ms/step - loss: 1.2121 - val_loss: 2.2974\n",
            "Epoch 53/200\n",
            "440/440 [==============================] - 40s 90ms/step - loss: 1.2822 - val_loss: 2.1676\n",
            "Epoch 54/200\n",
            "440/440 [==============================] - 40s 92ms/step - loss: 1.2930 - val_loss: 2.2544\n",
            "Epoch 55/200\n",
            "440/440 [==============================] - 40s 90ms/step - loss: 1.2430 - val_loss: 2.1839\n",
            "Epoch 56/200\n",
            "440/440 [==============================] - 39s 89ms/step - loss: 1.1762 - val_loss: 2.2759\n",
            "Epoch 57/200\n",
            "440/440 [==============================] - 40s 92ms/step - loss: 1.2177 - val_loss: 2.1765\n",
            "Epoch 58/200\n",
            "440/440 [==============================] - 42s 96ms/step - loss: 1.2548 - val_loss: 2.2252\n",
            "Epoch 59/200\n",
            "440/440 [==============================] - 39s 89ms/step - loss: 1.2294 - val_loss: 2.1406\n",
            "Epoch 60/200\n",
            "440/440 [==============================] - 39s 89ms/step - loss: 1.1793 - val_loss: 2.3194\n",
            "Epoch 61/200\n",
            "440/440 [==============================] - 40s 91ms/step - loss: 1.1278 - val_loss: 2.2217\n",
            "Epoch 62/200\n",
            "440/440 [==============================] - 42s 95ms/step - loss: 1.0845 - val_loss: 2.4998\n",
            "Epoch 63/200\n",
            "440/440 [==============================] - 40s 90ms/step - loss: 1.1359 - val_loss: 2.2785\n",
            "Epoch 64/200\n",
            "440/440 [==============================] - 39s 89ms/step - loss: 1.1278 - val_loss: 2.1401\n",
            "Epoch 65/200\n",
            "440/440 [==============================] - 40s 91ms/step - loss: 1.3255 - val_loss: 2.1703\n",
            "Epoch 66/200\n",
            "440/440 [==============================] - 39s 88ms/step - loss: 1.1936 - val_loss: 2.1454\n",
            "Epoch 67/200\n",
            "440/440 [==============================] - 39s 89ms/step - loss: 1.1112 - val_loss: 2.3874\n",
            "Epoch 68/200\n",
            "440/440 [==============================] - 40s 91ms/step - loss: 1.0979 - val_loss: 2.3366\n",
            "Epoch 69/200\n",
            "440/440 [==============================] - 42s 96ms/step - loss: 1.0455 - val_loss: 2.3959\n",
            "Epoch 70/200\n",
            "440/440 [==============================] - 39s 89ms/step - loss: 1.0167 - val_loss: 2.3330\n",
            "Epoch 71/200\n",
            "440/440 [==============================] - 39s 89ms/step - loss: 1.0053 - val_loss: 2.4016\n",
            "Epoch 72/200\n",
            "440/440 [==============================] - 40s 91ms/step - loss: 1.0388 - val_loss: 2.3994\n",
            "Epoch 73/200\n",
            "440/440 [==============================] - 39s 90ms/step - loss: 0.9645 - val_loss: 2.3049\n",
            "Epoch 74/200\n",
            "440/440 [==============================] - 39s 89ms/step - loss: 0.9564 - val_loss: 2.3124\n",
            "Epoch 75/200\n",
            "440/440 [==============================] - 41s 94ms/step - loss: 0.9476 - val_loss: 2.3821\n",
            "Epoch 76/200\n",
            "440/440 [==============================] - 41s 93ms/step - loss: 0.9623 - val_loss: 2.7346\n",
            "Epoch 77/200\n",
            "440/440 [==============================] - 40s 90ms/step - loss: 0.9781 - val_loss: 2.6323\n",
            "Epoch 78/200\n",
            "440/440 [==============================] - 41s 93ms/step - loss: 0.9679 - val_loss: 2.2991\n",
            "Epoch 79/200\n",
            "440/440 [==============================] - 41s 94ms/step - loss: 1.1053 - val_loss: 2.4485\n",
            "Epoch 80/200\n",
            "440/440 [==============================] - 41s 93ms/step - loss: 1.0742 - val_loss: 2.3787\n",
            "Epoch 81/200\n",
            "440/440 [==============================] - 41s 93ms/step - loss: 0.9253 - val_loss: 2.6092\n",
            "Epoch 82/200\n",
            "440/440 [==============================] - 41s 94ms/step - loss: 0.8513 - val_loss: 2.6355\n",
            "Epoch 83/200\n",
            "440/440 [==============================] - 42s 96ms/step - loss: 0.8470 - val_loss: 2.5268\n",
            "Epoch 84/200\n",
            "440/440 [==============================] - 43s 97ms/step - loss: 0.8610 - val_loss: 2.5748\n",
            "Epoch 85/200\n",
            "440/440 [==============================] - 42s 97ms/step - loss: 0.8437 - val_loss: 2.4870\n",
            "Epoch 86/200\n",
            "440/440 [==============================] - 41s 93ms/step - loss: 0.8872 - val_loss: 2.5470\n",
            "Epoch 87/200\n",
            "440/440 [==============================] - 41s 94ms/step - loss: 0.7925 - val_loss: 2.5982\n",
            "Epoch 88/200\n",
            "440/440 [==============================] - 41s 94ms/step - loss: 0.8060 - val_loss: 2.6584\n",
            "Epoch 89/200\n",
            "440/440 [==============================] - 41s 94ms/step - loss: 0.8229 - val_loss: 2.6780\n",
            "Epoch 90/200\n",
            "440/440 [==============================] - 40s 91ms/step - loss: 0.7689 - val_loss: 2.4815\n",
            "Epoch 91/200\n",
            "440/440 [==============================] - 41s 92ms/step - loss: 0.8137 - val_loss: 2.5959\n",
            "Epoch 92/200\n",
            "440/440 [==============================] - 42s 95ms/step - loss: 0.7828 - val_loss: 2.7258\n",
            "Epoch 93/200\n",
            "440/440 [==============================] - 42s 95ms/step - loss: 0.8047 - val_loss: 2.6839\n",
            "Epoch 94/200\n",
            "440/440 [==============================] - 41s 92ms/step - loss: 0.8039 - val_loss: 2.5250\n",
            "Epoch 95/200\n",
            "440/440 [==============================] - 41s 93ms/step - loss: 0.8213 - val_loss: 2.6668\n",
            "Epoch 96/200\n",
            "440/440 [==============================] - 42s 94ms/step - loss: 0.7618 - val_loss: 2.5999\n",
            "Epoch 97/200\n",
            "440/440 [==============================] - 41s 94ms/step - loss: 0.7167 - val_loss: 2.6217\n",
            "Epoch 98/200\n",
            "440/440 [==============================] - 41s 92ms/step - loss: 0.6778 - val_loss: 2.6577\n",
            "Epoch 99/200\n",
            "440/440 [==============================] - 41s 93ms/step - loss: 0.7105 - val_loss: 2.6163\n",
            "Epoch 100/200\n",
            "440/440 [==============================] - 41s 94ms/step - loss: 0.7175 - val_loss: 2.7979\n",
            "Epoch 101/200\n",
            "440/440 [==============================] - 41s 94ms/step - loss: 0.6638 - val_loss: 2.7117\n",
            "Epoch 102/200\n",
            "440/440 [==============================] - 40s 91ms/step - loss: 0.6796 - val_loss: 2.6551\n",
            "Epoch 103/200\n",
            "440/440 [==============================] - 40s 91ms/step - loss: 0.6687 - val_loss: 2.5731\n",
            "Epoch 104/200\n",
            "440/440 [==============================] - 41s 94ms/step - loss: 0.7112 - val_loss: 2.5408\n",
            "Epoch 105/200\n",
            "440/440 [==============================] - 41s 94ms/step - loss: 0.6700 - val_loss: 2.8469\n",
            "Epoch 106/200\n",
            "440/440 [==============================] - 40s 90ms/step - loss: 0.7048 - val_loss: 2.9012\n",
            "Epoch 107/200\n",
            "440/440 [==============================] - 41s 94ms/step - loss: 0.6327 - val_loss: 2.7700\n",
            "Epoch 108/200\n",
            "440/440 [==============================] - 41s 94ms/step - loss: 0.6278 - val_loss: 2.7005\n",
            "Epoch 109/200\n",
            "440/440 [==============================] - 41s 94ms/step - loss: 0.6128 - val_loss: 2.4683\n",
            "Epoch 110/200\n",
            "440/440 [==============================] - 40s 90ms/step - loss: 0.5923 - val_loss: 2.6746\n",
            "Epoch 111/200\n",
            "440/440 [==============================] - 41s 94ms/step - loss: 0.6177 - val_loss: 2.7046\n",
            "Epoch 112/200\n",
            "440/440 [==============================] - 41s 94ms/step - loss: 0.6070 - val_loss: 2.6445\n",
            "Epoch 113/200\n",
            "440/440 [==============================] - 42s 95ms/step - loss: 0.6563 - val_loss: 2.6866\n",
            "Epoch 114/200\n",
            "440/440 [==============================] - 40s 90ms/step - loss: 0.6021 - val_loss: 2.7632\n",
            "Epoch 115/200\n",
            "440/440 [==============================] - 41s 94ms/step - loss: 0.5620 - val_loss: 2.7735\n",
            "Epoch 116/200\n",
            "440/440 [==============================] - 41s 93ms/step - loss: 0.5601 - val_loss: 2.8454\n",
            "Epoch 117/200\n",
            "440/440 [==============================] - 41s 92ms/step - loss: 0.5536 - val_loss: 2.9388\n",
            "Epoch 118/200\n",
            "440/440 [==============================] - 39s 90ms/step - loss: 0.6066 - val_loss: 2.5560\n",
            "Epoch 119/200\n",
            "440/440 [==============================] - 42s 95ms/step - loss: 0.6146 - val_loss: 2.9081\n",
            "Epoch 120/200\n",
            "440/440 [==============================] - 41s 94ms/step - loss: 0.7007 - val_loss: 2.7316\n",
            "Epoch 121/200\n",
            "440/440 [==============================] - 41s 92ms/step - loss: 0.5449 - val_loss: 2.7785\n",
            "Epoch 122/200\n",
            "440/440 [==============================] - 40s 91ms/step - loss: 0.6764 - val_loss: 2.4791\n",
            "Epoch 123/200\n",
            "440/440 [==============================] - 41s 94ms/step - loss: 0.6829 - val_loss: 2.7907\n",
            "Epoch 124/200\n",
            "440/440 [==============================] - 41s 93ms/step - loss: 0.6285 - val_loss: 2.7206\n",
            "Epoch 125/200\n",
            "440/440 [==============================] - 40s 91ms/step - loss: 0.5945 - val_loss: 2.9029\n",
            "Epoch 126/200\n",
            "440/440 [==============================] - 41s 92ms/step - loss: 0.5540 - val_loss: 2.7913\n",
            "Epoch 127/200\n",
            "440/440 [==============================] - 41s 94ms/step - loss: 0.5335 - val_loss: 2.8049\n",
            "Epoch 128/200\n",
            "440/440 [==============================] - 41s 94ms/step - loss: 0.5421 - val_loss: 2.7118\n",
            "Epoch 129/200\n",
            "440/440 [==============================] - 39s 89ms/step - loss: 0.5431 - val_loss: 2.8497\n",
            "Epoch 130/200\n",
            "440/440 [==============================] - 41s 93ms/step - loss: 0.5367 - val_loss: 2.7329\n",
            "Epoch 131/200\n",
            "440/440 [==============================] - 41s 93ms/step - loss: 0.5703 - val_loss: 2.4567\n",
            "Epoch 132/200\n",
            "440/440 [==============================] - 40s 91ms/step - loss: 0.6453 - val_loss: 2.5613\n",
            "Epoch 133/200\n",
            "440/440 [==============================] - 40s 91ms/step - loss: 0.5928 - val_loss: 2.6406\n",
            "Epoch 134/200\n",
            "440/440 [==============================] - 41s 94ms/step - loss: 0.5329 - val_loss: 2.7576\n",
            "Epoch 135/200\n",
            "440/440 [==============================] - 41s 93ms/step - loss: 0.5321 - val_loss: 2.7586\n",
            "Epoch 136/200\n",
            "440/440 [==============================] - 39s 90ms/step - loss: 0.5471 - val_loss: 2.7441\n",
            "Epoch 137/200\n",
            "440/440 [==============================] - 41s 94ms/step - loss: 0.5061 - val_loss: 2.6402\n",
            "Epoch 138/200\n",
            "440/440 [==============================] - 41s 94ms/step - loss: 0.4811 - val_loss: 2.7251\n",
            "Epoch 139/200\n",
            "440/440 [==============================] - 41s 93ms/step - loss: 0.4690 - val_loss: 2.6081\n",
            "Epoch 140/200\n",
            "440/440 [==============================] - 40s 90ms/step - loss: 0.4806 - val_loss: 2.7045\n",
            "Epoch 141/200\n",
            "440/440 [==============================] - 41s 94ms/step - loss: 0.4741 - val_loss: 2.6581\n",
            "Epoch 142/200\n",
            "440/440 [==============================] - 41s 93ms/step - loss: 0.4657 - val_loss: 2.7262\n",
            "Epoch 143/200\n",
            "440/440 [==============================] - 40s 92ms/step - loss: 0.4563 - val_loss: 2.8819\n",
            "Epoch 144/200\n",
            "440/440 [==============================] - 40s 91ms/step - loss: 0.4738 - val_loss: 2.7961\n",
            "Epoch 145/200\n",
            "440/440 [==============================] - 41s 94ms/step - loss: 0.4187 - val_loss: 2.8621\n",
            "Epoch 146/200\n",
            "440/440 [==============================] - 42s 95ms/step - loss: 0.4590 - val_loss: 2.7295\n",
            "Epoch 147/200\n",
            "440/440 [==============================] - 40s 92ms/step - loss: 0.5101 - val_loss: 2.9153\n",
            "Epoch 148/200\n",
            "440/440 [==============================] - 40s 91ms/step - loss: 0.4473 - val_loss: 2.7937\n",
            "Epoch 149/200\n",
            "440/440 [==============================] - 41s 94ms/step - loss: 0.5032 - val_loss: 2.7463\n",
            "Epoch 150/200\n",
            "440/440 [==============================] - 41s 94ms/step - loss: 0.4760 - val_loss: 2.8421\n",
            "Epoch 151/200\n",
            "440/440 [==============================] - 40s 92ms/step - loss: 0.4178 - val_loss: 2.9084\n",
            "Epoch 152/200\n",
            "440/440 [==============================] - 41s 93ms/step - loss: 0.4029 - val_loss: 2.8270\n",
            "Epoch 153/200\n",
            "440/440 [==============================] - 41s 94ms/step - loss: 0.4157 - val_loss: 2.8080\n",
            "Epoch 154/200\n",
            "440/440 [==============================] - 41s 94ms/step - loss: 0.4116 - val_loss: 2.8131\n",
            "Epoch 155/200\n",
            "440/440 [==============================] - 40s 90ms/step - loss: 0.4241 - val_loss: 2.9355\n",
            "Epoch 156/200\n",
            "440/440 [==============================] - 41s 93ms/step - loss: 0.3971 - val_loss: 2.8718\n",
            "Epoch 157/200\n",
            "440/440 [==============================] - 41s 93ms/step - loss: 0.4515 - val_loss: 2.7928\n",
            "Epoch 158/200\n",
            "440/440 [==============================] - 44s 99ms/step - loss: 0.4266 - val_loss: 2.8933\n",
            "Epoch 159/200\n",
            "440/440 [==============================] - 41s 93ms/step - loss: 0.3937 - val_loss: 2.8042\n",
            "Epoch 160/200\n",
            "440/440 [==============================] - 40s 92ms/step - loss: 0.4490 - val_loss: 2.7256\n",
            "Epoch 161/200\n",
            "440/440 [==============================] - 41s 94ms/step - loss: 0.4024 - val_loss: 2.7284\n",
            "Epoch 162/200\n",
            "440/440 [==============================] - 41s 94ms/step - loss: 0.3552 - val_loss: 2.8191\n",
            "Epoch 163/200\n",
            "440/440 [==============================] - 41s 93ms/step - loss: 0.3487 - val_loss: 2.7932\n",
            "Epoch 164/200\n",
            "440/440 [==============================] - 40s 92ms/step - loss: 0.4140 - val_loss: 2.7963\n",
            "Epoch 165/200\n",
            "440/440 [==============================] - 42s 94ms/step - loss: 0.3951 - val_loss: 2.6984\n",
            "Epoch 166/200\n",
            "440/440 [==============================] - 42s 95ms/step - loss: 0.4154 - val_loss: 2.7986\n",
            "Epoch 167/200\n",
            "440/440 [==============================] - 41s 93ms/step - loss: 0.3820 - val_loss: 2.7873\n",
            "Epoch 168/200\n",
            "440/440 [==============================] - 40s 91ms/step - loss: 0.3824 - val_loss: 2.8448\n",
            "Epoch 169/200\n",
            "440/440 [==============================] - 41s 94ms/step - loss: 0.3533 - val_loss: 2.7216\n",
            "Epoch 170/200\n",
            "440/440 [==============================] - 42s 96ms/step - loss: 0.3475 - val_loss: 2.6636\n",
            "Epoch 171/200\n",
            "440/440 [==============================] - 41s 92ms/step - loss: 0.3688 - val_loss: 2.7067\n",
            "Epoch 172/200\n",
            "440/440 [==============================] - 40s 91ms/step - loss: 0.3771 - val_loss: 2.7546\n",
            "Epoch 173/200\n",
            "440/440 [==============================] - 42s 95ms/step - loss: 0.7048 - val_loss: 2.4860\n",
            "Epoch 174/200\n",
            "440/440 [==============================] - 42s 96ms/step - loss: 0.5150 - val_loss: 2.7342\n",
            "Epoch 175/200\n",
            "440/440 [==============================] - 41s 94ms/step - loss: 0.3363 - val_loss: 2.7476\n",
            "Epoch 176/200\n",
            "440/440 [==============================] - 40s 90ms/step - loss: 0.3316 - val_loss: 2.7740\n",
            "Epoch 177/200\n",
            "440/440 [==============================] - 41s 94ms/step - loss: 0.3061 - val_loss: 2.7275\n",
            "Epoch 178/200\n",
            "440/440 [==============================] - 41s 94ms/step - loss: 0.2933 - val_loss: 2.6585\n",
            "Epoch 179/200\n",
            "440/440 [==============================] - 42s 95ms/step - loss: 0.2942 - val_loss: 2.8205\n",
            "Epoch 180/200\n",
            "440/440 [==============================] - 41s 92ms/step - loss: 0.3538 - val_loss: 2.7630\n",
            "Epoch 181/200\n",
            "440/440 [==============================] - 42s 96ms/step - loss: 0.4587 - val_loss: 2.7987\n",
            "Epoch 182/200\n",
            "440/440 [==============================] - 42s 96ms/step - loss: 0.3671 - val_loss: 2.7831\n",
            "Epoch 183/200\n",
            "440/440 [==============================] - 42s 94ms/step - loss: 0.3439 - val_loss: 2.7132\n",
            "Epoch 184/200\n",
            "440/440 [==============================] - 41s 92ms/step - loss: 0.3401 - val_loss: 2.8480\n",
            "Epoch 185/200\n",
            "440/440 [==============================] - 41s 93ms/step - loss: 0.3200 - val_loss: 2.7044\n",
            "Epoch 186/200\n",
            "440/440 [==============================] - 43s 97ms/step - loss: 0.3405 - val_loss: 2.6513\n",
            "Epoch 187/200\n",
            "440/440 [==============================] - 42s 96ms/step - loss: 0.3118 - val_loss: 2.6404\n",
            "Epoch 188/200\n",
            "440/440 [==============================] - 44s 100ms/step - loss: 0.3216 - val_loss: 2.7961\n",
            "Epoch 189/200\n",
            "440/440 [==============================] - 41s 93ms/step - loss: 0.3630 - val_loss: 2.7745\n",
            "Epoch 190/200\n",
            "440/440 [==============================] - 42s 95ms/step - loss: 0.2888 - val_loss: 2.7322\n",
            "Epoch 191/200\n",
            "440/440 [==============================] - 42s 95ms/step - loss: 0.2935 - val_loss: 2.6792\n",
            "Epoch 192/200\n",
            "440/440 [==============================] - 41s 94ms/step - loss: 0.3055 - val_loss: 2.6988\n",
            "Epoch 193/200\n",
            "440/440 [==============================] - 40s 92ms/step - loss: 0.3014 - val_loss: 2.7371\n",
            "Epoch 194/200\n",
            "440/440 [==============================] - 41s 92ms/step - loss: 0.3014 - val_loss: 2.5810\n",
            "Epoch 195/200\n",
            "440/440 [==============================] - 41s 94ms/step - loss: 0.2513 - val_loss: 2.7797\n",
            "Epoch 196/200\n",
            "440/440 [==============================] - 41s 94ms/step - loss: 0.2682 - val_loss: 2.7924\n",
            "Epoch 197/200\n",
            "440/440 [==============================] - 39s 89ms/step - loss: 0.4381 - val_loss: 2.7990\n",
            "Epoch 198/200\n",
            "440/440 [==============================] - 41s 94ms/step - loss: 0.2945 - val_loss: 2.7388\n",
            "Epoch 199/200\n",
            "440/440 [==============================] - 43s 97ms/step - loss: 0.2943 - val_loss: 2.7514\n",
            "Epoch 200/200\n",
            "440/440 [==============================] - 42s 97ms/step - loss: 0.2375 - val_loss: 2.7831\n"
          ]
        }
      ]
    },
    {
      "cell_type": "code",
      "source": [
        "#学習履歴のグラフ化\n",
        "plt.plot(history.history['loss'])\n",
        "plt.plot(history.history['val_loss'])\n",
        "plt.title('Model loss')\n",
        "plt.ylabel('Loss')\n",
        "plt.xlabel('Epoch')\n",
        "plt.legend(['Train', 'Test'], loc='upper left')\n",
        "plt.show()"
      ],
      "metadata": {
        "colab": {
          "base_uri": "https://localhost:8080/",
          "height": 472
        },
        "id": "xeMvFX-cKRv5",
        "outputId": "2da2b1f0-c83c-4102-887d-df1f68c861c3"
      },
      "execution_count": 48,
      "outputs": [
        {
          "output_type": "display_data",
          "data": {
            "text/plain": [
              "<Figure size 640x480 with 1 Axes>"
            ],
            "image/png": "[encoded data removed]"
          },
          "metadata": {}
        }
      ]
    },
    {
      "cell_type": "code",
      "source": [
        "#学習データから学習時にテストデータとして用いた部分を取り出す\n",
        "Xdata_validation=Xdata[-int(len(Xdata)*(validation_split_rate)):]\n",
        "Ydata_validation=Ydata[-int(len(Ydata)*(validation_split_rate)):]"
      ],
      "metadata": {
        "id": "z6r-2wMfKmCo"
      },
      "execution_count": 25,
      "outputs": []
    },
    {
      "cell_type": "code",
      "source": [
        "#テスト\n",
        "Predictdata = model.predict(Xdata_validation)\n",
        "#テスト結果のグラフ化\n",
        "plt.plot(range(0, len(Predictdata)),Predictdata[:,0], color=\"b\", label=\"predict\")\n",
        "plt.plot(range(0, len(Ydata_validation)),Ydata_validation[:,0], color=\"r\", label=\"row_data\")\n",
        "plt.legend()\n",
        "plt.show()"
      ],
      "metadata": {
        "colab": {
          "base_uri": "https://localhost:8080/",
          "height": 448
        },
        "id": "aPqhUAUAKtWA",
        "outputId": "4b48ba83-bf13-4e9a-c256-aae72889cf42"
      },
      "execution_count": 28,
      "outputs": [
        {
          "output_type": "stream",
          "name": "stdout",
          "text": [
            "55/55 [==============================] - 4s 64ms/step\n"
          ]
        },
        {
          "output_type": "display_data",
          "data": {
            "text/plain": [
              "<Figure size 640x480 with 1 Axes>"
            ],
            "image/png": "[encoded data removed]"
          },
          "metadata": {}
        }
      ]
    },
    {
      "cell_type": "code",
      "source": [
        "import pandas as pd\n",
        "predict_df = pd.DataFrame(Predictdata, columns=[\"predict\"])\n",
        "validation_df = pd.DataFrame(Ydata_validation, columns=[\"row_data\"])\n",
        "predict_df.to_csv(\"/content/drive/MyDrive/Colab Notebooks/RENEW_predict_data05.csv\", index=False)\n",
        "validation_df.to_csv(\"/content/drive/MyDrive/Colab Notebooks/RENEW_validation_data05.csv\", index=False)\n"
      ],
      "metadata": {
        "id": "P-g4zV8ASnx-"
      },
      "execution_count": 29,
      "outputs": []
    }
  ]
}